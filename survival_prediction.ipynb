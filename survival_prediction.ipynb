{
 "cells": [
  {
   "cell_type": "code",
   "execution_count": 1,
   "metadata": {
    "collapsed": true
   },
   "outputs": [],
   "source": [
    "#import pandas and numpy libraries for data audit and cleaning\n",
    "import pandas as pd\n",
    "import numpy as np\n",
    "\n",
    "#Load training and test data from the provided datasets\n",
    "\n",
    "Data_train = pd.read_csv(\"train.csv\",header=0)\n",
    "Data_test = pd.read_csv(\"test.csv\",header=0)\n",
    "\n",
    "#copy data for playing\n",
    "trainData=Data_train.copy(deep=True)\n",
    "testData=Data_test.copy(deep=True)\n",
    "\n",
    "#cleaning the data for missing values\n",
    "trainData['Embarked']=trainData['Embarked'].fillna(value='S')\n",
    "\n",
    "#Replace missing age values with average value for that gender\n",
    "condition=[(trainData['Age'].notnull()),((trainData['Sex'] == 'male')&(trainData['Age'].isnull())),((trainData['Sex'] == 'female')&(trainData['Age'].isnull()))]\n",
    "values=[trainData['Age'],trainData.query(\"Sex == 'male'\").agg({'Age':np.mean}),trainData.query(\"Sex == 'female'\").agg({'Age':np.mean})]\n",
    "trainData['Age']=np.select(condition,values)\n",
    "\n",
    "condition=[(testData['Age'].notnull()),((testData['Sex'] == 'male')&(testData['Age'].isnull())),((testData['Sex'] == 'female')&(testData['Age'].isnull()))]\n",
    "values=[testData['Age'],testData.query(\"Sex == 'male'\").agg({'Age':np.mean}),testData.query(\"Sex == 'female'\").agg({'Age':np.mean})]\n",
    "testData['Age']=np.select(condition,values)\n",
    "\n",
    "#create training and test datasets\n",
    "X_train=trainData.drop(['PassengerId','Survived','Name','Ticket','Cabin'],axis=1)\n",
    "Y_train=trainData['Survived']\n",
    "X_test=testData.drop(['PassengerId','Name','Ticket','Cabin'],axis=1)\n",
    "\n",
    "X_train=pd.get_dummies(data=X_train)\n",
    "X_test=pd.get_dummies(data=X_test)\n",
    "\n",
    "X_test['Fare']=X_test['Fare'].fillna(value=np.mean(X_test['Fare']))"
   ]
  },
  {
   "cell_type": "code",
   "execution_count": 2,
   "metadata": {
    "collapsed": true
   },
   "outputs": [],
   "source": [
    "#Import Gradient Boost\n",
    "from sklearn.ensemble import GradientBoostingClassifier"
   ]
  },
  {
   "cell_type": "code",
   "execution_count": 3,
   "metadata": {
    "collapsed": true
   },
   "outputs": [],
   "source": [
    "#Build model\n",
    "clf=GradientBoostingClassifier(n_estimators=50,random_state=400)"
   ]
  },
  {
   "cell_type": "code",
   "execution_count": 4,
   "metadata": {},
   "outputs": [
    {
     "data": {
      "text/plain": [
       "GradientBoostingClassifier(criterion='friedman_mse', init=None,\n",
       "              learning_rate=0.1, loss='deviance', max_depth=3,\n",
       "              max_features=None, max_leaf_nodes=None,\n",
       "              min_impurity_split=1e-07, min_samples_leaf=1,\n",
       "              min_samples_split=2, min_weight_fraction_leaf=0.0,\n",
       "              n_estimators=50, presort='auto', random_state=400,\n",
       "              subsample=1.0, verbose=0, warm_start=False)"
      ]
     },
     "execution_count": 4,
     "metadata": {},
     "output_type": "execute_result"
    }
   ],
   "source": [
    "#fit the model\n",
    "clf.fit(X_train,Y_train)"
   ]
  },
  {
   "cell_type": "code",
   "execution_count": 6,
   "metadata": {
    "collapsed": true
   },
   "outputs": [],
   "source": [
    "#read the sample output file to get the estimate accuracy\n",
    "Y_test=pd.read_csv(\"gender_submission.csv\",header=0)\n",
    "Y_test=Y_test.drop(['PassengerId'],axis=1)"
   ]
  },
  {
   "cell_type": "code",
   "execution_count": 7,
   "metadata": {},
   "outputs": [
    {
     "data": {
      "text/plain": [
       "0.90909090909090906"
      ]
     },
     "execution_count": 7,
     "metadata": {},
     "output_type": "execute_result"
    }
   ],
   "source": [
    "#calculate accuracy for the model\n",
    "clf.score(X_test,Y_test)"
   ]
  },
  {
   "cell_type": "code",
   "execution_count": 8,
   "metadata": {
    "collapsed": true
   },
   "outputs": [],
   "source": [
    "#Grid Search CV to get best number of trees for Gradient Boosting\n",
    "from sklearn.model_selection import GridSearchCV"
   ]
  },
  {
   "cell_type": "code",
   "execution_count": 9,
   "metadata": {},
   "outputs": [
    {
     "data": {
      "text/plain": [
       "GridSearchCV(cv=None, error_score='raise',\n",
       "       estimator=GradientBoostingClassifier(criterion='friedman_mse', init=None,\n",
       "              learning_rate=0.1, loss='deviance', max_depth=3,\n",
       "              max_features=None, max_leaf_nodes=None,\n",
       "              min_impurity_split=1e-07, min_samples_leaf=1,\n",
       "              min_samples_split=2, min_weight_fraction_leaf=0.0,\n",
       "              n_estimators=50, presort='auto', random_state=400,\n",
       "              subsample=1.0, verbose=0, warm_start=False),\n",
       "       fit_params={}, iid=True, n_jobs=1,\n",
       "       param_grid={'n_estimators': [10, 20, 30, 40, 50, 60, 70, 80, 90, 100, 110, 120, 130, 140, 150, 160, 170, 180, 190, 200, 210, 220, 230, 240, 250, 260, 270, 280, 290]},\n",
       "       pre_dispatch='2*n_jobs', refit=True, return_train_score=True,\n",
       "       scoring=None, verbose=0)"
      ]
     },
     "execution_count": 9,
     "metadata": {},
     "output_type": "execute_result"
    }
   ],
   "source": [
    "est=list(range(10,300,10))\n",
    "mod=GridSearchCV(clf,param_grid={'n_estimators':est})\n",
    "mod.fit(X_train,Y_train)"
   ]
  },
  {
   "cell_type": "code",
   "execution_count": 10,
   "metadata": {},
   "outputs": [
    {
     "data": {
      "text/plain": [
       "GradientBoostingClassifier(criterion='friedman_mse', init=None,\n",
       "              learning_rate=0.1, loss='deviance', max_depth=3,\n",
       "              max_features=None, max_leaf_nodes=None,\n",
       "              min_impurity_split=1e-07, min_samples_leaf=1,\n",
       "              min_samples_split=2, min_weight_fraction_leaf=0.0,\n",
       "              n_estimators=100, presort='auto', random_state=400,\n",
       "              subsample=1.0, verbose=0, warm_start=False)"
      ]
     },
     "execution_count": 10,
     "metadata": {},
     "output_type": "execute_result"
    }
   ],
   "source": [
    "#get the best estimator value and create the model with it as a parameter\n",
    "mod.best_estimator_"
   ]
  },
  {
   "cell_type": "code",
   "execution_count": 25,
   "metadata": {
    "collapsed": true
   },
   "outputs": [],
   "source": [
    "clf=GradientBoostingClassifier(n_estimators=20,random_state=400)"
   ]
  },
  {
   "cell_type": "code",
   "execution_count": 26,
   "metadata": {},
   "outputs": [
    {
     "data": {
      "text/plain": [
       "0.91148325358851678"
      ]
     },
     "execution_count": 26,
     "metadata": {},
     "output_type": "execute_result"
    }
   ],
   "source": [
    "# Fit the new model and get accuracy\n",
    "clf.fit(X_train,Y_train)\n",
    "clf.score(X_test,Y_test)"
   ]
  },
  {
   "cell_type": "code",
   "execution_count": 27,
   "metadata": {
    "collapsed": true
   },
   "outputs": [],
   "source": [
    "# get predictions and write them in a csv for submission\n",
    "pred=clf.predict(X_test)"
   ]
  },
  {
   "cell_type": "code",
   "execution_count": 29,
   "metadata": {
    "collapsed": true
   },
   "outputs": [],
   "source": [
    "op=pd.DataFrame(testData['PassengerId'],columns=['PassengerId'])\n",
    "op['Survived']=pd.Series(pred)"
   ]
  },
  {
   "cell_type": "code",
   "execution_count": 30,
   "metadata": {
    "collapsed": true
   },
   "outputs": [],
   "source": [
    "op.to_csv('GradBoost.csv',header=['PassengerId','Survived'],index=False)"
   ]
  }
 ],
 "metadata": {
  "kernelspec": {
   "display_name": "Python 3",
   "language": "python",
   "name": "python3"
  },
  "language_info": {
   "codemirror_mode": {
    "name": "ipython",
    "version": 3
   },
   "file_extension": ".py",
   "mimetype": "text/x-python",
   "name": "python",
   "nbconvert_exporter": "python",
   "pygments_lexer": "ipython3",
   "version": "3.6.1"
  }
 },
 "nbformat": 4,
 "nbformat_minor": 2
}
